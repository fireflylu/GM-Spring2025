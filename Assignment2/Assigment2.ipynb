{
 "cells": [
  {
   "cell_type": "code",
   "execution_count": 13,
   "metadata": {
    "scrolled": true
   },
   "outputs": [],
   "source": [
    "import numpy as np\n",
    "import igl\n",
    "import meshplot as mp"
   ]
  },
  {
   "cell_type": "code",
   "execution_count": 14,
   "metadata": {
    "scrolled": true
   },
   "outputs": [],
   "source": [
    "# Utility function to generate a tet grid\n",
    "# n is a 3-tuple with the number of cell in every direction\n",
    "# mmin/mmax are the grid bounding box corners\n",
    "\n",
    "def tet_grid(n, mmin, mmax):\n",
    "    nx = n[0]\n",
    "    ny = n[1]\n",
    "    nz = n[2]\n",
    "    \n",
    "    delta = mmax-mmin\n",
    "    \n",
    "    deltax = delta[0]/(nx-1)\n",
    "    deltay = delta[1]/(ny-1)\n",
    "    deltaz = delta[2]/(nz-1)\n",
    "    \n",
    "    T = np.zeros(((nx-1)*(ny-1)*(nz-1)*6, 4), dtype=np.int64)\n",
    "    V = np.zeros((nx*ny*nz, 3))\n",
    "\n",
    "    mapping = -np.ones((nx, ny, nz), dtype=np.int64)\n",
    "\n",
    "\n",
    "    index = 0\n",
    "    for i in range(nx):\n",
    "        for j in range(ny):\n",
    "            for k in range(nz):\n",
    "                mapping[i, j, k] = index\n",
    "                V[index, :] = [i*deltax, j*deltay, k*deltaz]\n",
    "                index += 1\n",
    "    assert(index == V.shape[0])\n",
    "    \n",
    "    tets = np.array([\n",
    "        [0,1,3,4],\n",
    "        [5,2,6,7],\n",
    "        [4,1,5,3],\n",
    "        [4,3,7,5],\n",
    "        [3,1,5,2],\n",
    "        [2,3,7,5]\n",
    "    ])\n",
    "    \n",
    "    index = 0\n",
    "    for i in range(nx-1):\n",
    "        for j in range(ny-1):\n",
    "            for k in range(nz-1):\n",
    "                indices = [\n",
    "                    (i,   j,   k),\n",
    "                    (i+1, j,   k),\n",
    "                    (i+1, j+1, k),\n",
    "                    (i,   j+1, k),\n",
    "\n",
    "                    (i,   j,   k+1),\n",
    "                    (i+1, j,   k+1),\n",
    "                    (i+1, j+1, k+1),\n",
    "                    (i,   j+1, k+1),\n",
    "                ]\n",
    "                \n",
    "                for t in range(tets.shape[0]):\n",
    "                    tmp = [mapping[indices[ii]] for ii in tets[t, :]]\n",
    "                    T[index, :]=tmp\n",
    "                    index += 1\n",
    "                    \n",
    "    assert(index == T.shape[0])\n",
    "    \n",
    "    V += mmin\n",
    "    return V, T"
   ]
  },
  {
   "cell_type": "code",
   "execution_count": 15,
   "metadata": {},
   "outputs": [
    {
     "name": "stdout",
     "output_type": "stream",
     "text": [
      "(1, 1, 1)\n"
     ]
    }
   ],
   "source": [
    "def binning(pi, bbox_min, bbox_max, reso):\n",
    "    size_of_bin = (bbox_max - bbox_min) / reso\n",
    "    # print(bbox_max, bbox_min, size_of_bin)\n",
    "\n",
    "    cube = {}\n",
    "\n",
    "    for i, p in enumerate(pi):\n",
    "        # print(cube)\n",
    "        bin = indexing(p, bbox_min, reso)\n",
    "        if bin in cube:\n",
    "            cube[bin].append(i)\n",
    "        else: \n",
    "            cube[bin] = [i]\n",
    "            \n",
    "    return cube\n",
    "\n",
    "def indexing(p, bbox_min, reso):\n",
    "    x, y, z = (p - bbox_min) / reso\n",
    "    return (int(x), int(y), int(z))\n",
    "\n",
    "thing = indexing(np.array([2,2,2]), np.array([1,1,1]), 1)\n",
    "print(thing)"
   ]
  },
  {
   "cell_type": "markdown",
   "metadata": {},
   "source": [
    "# Reading point cloud"
   ]
  },
  {
   "cell_type": "code",
   "execution_count": null,
   "metadata": {},
   "outputs": [],
   "source": [
    "# def find_closest_point(point, points):\n",
    "#     distance = np.linalg.norm((points-point), axis=0)\n",
    "#     return np.argmin(distance)"
   ]
  },
  {
   "cell_type": "code",
   "execution_count": 17,
   "metadata": {},
   "outputs": [
    {
     "data": {
      "application/vnd.jupyter.widget-view+json": {
       "model_id": "cc17af85ef204e709b141c7f89d4bd2d",
       "version_major": 2,
       "version_minor": 0
      },
      "text/plain": [
       "Renderer(camera=PerspectiveCamera(children=(DirectionalLight(color='white', intensity=0.6, position=(5.0, -23.…"
      ]
     },
     "metadata": {},
     "output_type": "display_data"
    },
    {
     "data": {
      "text/plain": [
       "2"
      ]
     },
     "execution_count": 17,
     "metadata": {},
     "output_type": "execute_result"
    }
   ],
   "source": [
    "def find_closest_point(point, points):\n",
    "    distances = np.linalg.norm(points-point, axis = 1)\n",
    "    return np.argmin(distances)\n",
    "    \n",
    "pi, v = igl.read_triangle_mesh(\"data/cat.off\")\n",
    "pi /= 10\n",
    "ni = igl.per_vertex_normals(pi, v)\n",
    "\n",
    "p = []\n",
    "f = []\n",
    "bbd = igl.bounding_box_diagonal(pi)\n",
    "\n",
    "for i, point in enumerate(pi):\n",
    "    p.append(point)\n",
    "    f.append(0)\n",
    "    n = ni[i]\n",
    "\n",
    "    eps = 0.01 * bbd\n",
    "    pip = point + eps * n\n",
    "    while find_closest_point(pip, pi) != i: \n",
    "        eps /= 2\n",
    "        pip = point + eps * n\n",
    "    p.append(pip)\n",
    "    f.append(eps)\n",
    "\n",
    "    eps = 0.01 * bbd\n",
    "    pim = point - eps * n\n",
    "    while find_closest_point(pip, pi) != i: \n",
    "        eps /= 2\n",
    "        pip = point - eps * n\n",
    "    p.append(pim)\n",
    "    f.append(-eps)\n",
    "\n",
    "p = np.array(p)\n",
    "f = np.array(f)\n",
    "thing = mp.plot(pi, shading={\"point_color\": \"blue\", \"point_size\": 8})\n",
    "thing.add_points(p[f > 0], shading = {\"point_color\": \"pink\", \"point_size\": 8})\n",
    "thing.add_points(p[f < 0], shading = {\"point_color\": \"green\", \"point_size\": 8})"
   ]
  },
  {
   "cell_type": "markdown",
   "metadata": {},
   "source": [
    "# MLS function"
   ]
  },
  {
   "cell_type": "code",
   "execution_count": 22,
   "metadata": {
    "scrolled": true
   },
   "outputs": [],
   "source": [
    "# Parameters\n",
    "bbox_min = np.min(pi, axis=0)\n",
    "bbox_max = np.max(pi, axis=0)\n",
    "bbox_diag = np.linalg.norm(bbox_max - bbox_min)\n",
    "\n",
    "n = 30\n",
    "\n",
    "x, T = tet_grid((n, n, n), bbox_min - 0.05 * bbox_diag, bbox_max + 0.05 * bbox_diag)"
   ]
  },
  {
   "cell_type": "code",
   "execution_count": null,
   "metadata": {},
   "outputs": [],
   "source": [
    "# def closest_points(point, points, h, bbox_min, cube, reso):\n",
    "#     bin = indexing(point, bbox_min, reso)\n",
    "#     l = []\n",
    "#     # if len(l) > 8: print(l)\n",
    "#     for dx in [-1, 0, 1]:\n",
    "#         for dy in [-1, 0, 1]:\n",
    "#             for dz in [-1, 0, 1]:\n",
    "#                 neigh_bin = (bin[0] + dx, bin[1] + dy, bin[2] + dz)\n",
    "#                 if neigh_bin in cube:\n",
    "#                     l += [i for i, x in enumerate(points[cube[neigh_bin]] - point) if np.linalg.norm(x) <= h and i not in l]\n",
    "#     # if len(l) > 0: print(l)\n",
    "#     return l\n"
   ]
  },
  {
   "cell_type": "code",
   "execution_count": 26,
   "metadata": {
    "scrolled": true
   },
   "outputs": [],
   "source": [
    "# Generate grid n x n x n\n",
    "\n",
    "x, T = tet_grid((n, n, n), bbox_min - 0.05 * bbox_diag, bbox_max + 0.05 * bbox_diag)\n",
    "\n",
    "import math\n",
    "\n",
    "# r is distance between x and ci\n",
    "# h is wendland radius\n",
    "def w(x, points, h):\n",
    "    weights = []\n",
    "    for p in points:\n",
    "        r = np.linalg.norm(x-p)\n",
    "        if r < h:\n",
    "            weights.append(math.pow(1-(r/h), 4) * (4*r/h + 1))\n",
    "    return weights\n",
    "\n",
    "def closest_points(point, points, h):\n",
    "    # bin = indexing(point, bbox_min, reso)\n",
    "    return [i for i, x in enumerate(points - point) if np.linalg.norm(x) <= h]\n",
    "    \n",
    "    # l = []\n",
    "    # # if len(l) > 8: print(l)\n",
    "    # for dx in [-1, 0, 1]:\n",
    "    #     for dy in [-1, 0, 1]:\n",
    "    #         for dz in [-1, 0, 1]:\n",
    "    #             neigh_bin = (bin[0] + dx, bin[1] + dy, bin[2] + dz)\n",
    "    #             if neigh_bin in cube:\n",
    "    #                 l += [i for i, x in enumerate(points[cube[neigh_bin]] - point) if np.linalg.norm(x) <= h and i not in l]\n",
    "    # # if len(l) > 0: print(l)\n",
    "    # return l\n",
    "\n",
    "k = {0:1, 1:4, 2:10}\n",
    "wendlandr = 30\n",
    "size = p.shape[0]\n",
    "W = np.zeros((size, size))\n",
    "fx = np.zeros(len(x))\n",
    "\n",
    "for i, xi in enumerate(x):\n",
    "    index = np.array(closest_points(xi, p, wendlandr))\n",
    "    num_points = len(index)\n",
    "    if num_points < 2 * k[1]: \n",
    "        fx[i] = 7\n",
    "        continue\n",
    "        \n",
    "    # bin = indexing(point, bbox_min, reso)\n",
    "    W = np.diagflat(w(xi, p, wendlandr))\n",
    "    B = np.ones((num_points, k[1]))\n",
    "    B[:, 1:] = p[index]\n",
    "\n",
    "    # print(B.T.shape, W.shape, f[index].shape)\n",
    "    A = B.T @ W @ B\n",
    "    b = B.T @ W @ f[index]\n",
    "    a = np.linalg.solve(A, b)\n",
    "    \n",
    "    # sum = 0\n",
    "    b = [1,xi[0], xi[1], xi[2]]\n",
    "    sum_x = b@a\n",
    "    fx[i] = sum_x\n",
    "    # break\n"
   ]
  },
  {
   "cell_type": "code",
   "execution_count": 27,
   "metadata": {},
   "outputs": [
    {
     "data": {
      "application/vnd.jupyter.widget-view+json": {
       "model_id": "d1c71fd9af0c420099cd64a5b7aecfb0",
       "version_major": 2,
       "version_minor": 0
      },
      "text/plain": [
       "Renderer(camera=PerspectiveCamera(children=(DirectionalLight(color='white', intensity=0.6, position=(5.0, -23.…"
      ]
     },
     "metadata": {},
     "output_type": "display_data"
    },
    {
     "data": {
      "text/plain": [
       "<meshplot.Viewer.Viewer at 0x25a60033160>"
      ]
     },
     "execution_count": 27,
     "metadata": {},
     "output_type": "execute_result"
    }
   ],
   "source": [
    "# Threshold fx to visualize inside outside\n",
    "\n",
    "color = np.zeros((len(x), 3))\n",
    "color[fx >= 0] = [1,0,0]\n",
    "color[fx < 0] = [0,1,0]\n",
    "mp.plot(x, c=color, shading={\"point_size\": 6,\"width\": 800, \"height\": 800})"
   ]
  },
  {
   "cell_type": "code",
   "execution_count": null,
   "metadata": {},
   "outputs": [],
   "source": []
  },
  {
   "cell_type": "markdown",
   "metadata": {},
   "source": [
    "# Marching to extract surface"
   ]
  },
  {
   "cell_type": "code",
   "execution_count": 28,
   "metadata": {},
   "outputs": [
    {
     "data": {
      "application/vnd.jupyter.widget-view+json": {
       "model_id": "0eb866229f544b2e8f28d96d90f98941",
       "version_major": 2,
       "version_minor": 0
      },
      "text/plain": [
       "Renderer(camera=PerspectiveCamera(children=(DirectionalLight(color='white', intensity=0.6, position=(4.5712823…"
      ]
     },
     "metadata": {},
     "output_type": "display_data"
    },
    {
     "data": {
      "text/plain": [
       "<meshplot.Viewer.Viewer at 0x25a603b61d0>"
      ]
     },
     "execution_count": 28,
     "metadata": {},
     "output_type": "execute_result"
    }
   ],
   "source": [
    "# Marching tet to extract surface\n",
    "\n",
    "sv, sf, _, _ = igl.marching_tets(x, T, fx, 0)\n",
    "comp = igl.face_components(sf)\n",
    "num = np.argmax(np.bincount(comp))\n",
    "new_f = sf[comp == num]\n",
    "mp.plot(sv, new_f, shading={\"wireframe\": True})"
   ]
  },
  {
   "cell_type": "code",
   "execution_count": null,
   "metadata": {
    "scrolled": true
   },
   "outputs": [],
   "source": []
  }
 ],
 "metadata": {
  "kernelspec": {
   "display_name": "Python 3 (ipykernel)",
   "language": "python",
   "name": "python3"
  },
  "language_info": {
   "codemirror_mode": {
    "name": "ipython",
    "version": 3
   },
   "file_extension": ".py",
   "mimetype": "text/x-python",
   "name": "python",
   "nbconvert_exporter": "python",
   "pygments_lexer": "ipython3",
   "version": "3.10.16"
  }
 },
 "nbformat": 4,
 "nbformat_minor": 4
}
